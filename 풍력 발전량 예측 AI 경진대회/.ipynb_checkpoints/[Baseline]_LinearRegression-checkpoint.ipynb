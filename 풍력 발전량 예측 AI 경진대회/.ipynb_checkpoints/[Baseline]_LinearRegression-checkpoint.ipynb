{
 "cells": [
  {
   "cell_type": "markdown",
   "id": "ede058fb-c720-45e7-89b7-fbe160eaa4ee",
   "metadata": {},
   "source": [
    "#### 이번 대회에서는 범주형 변수 전처리를 위해 Label Encoding과 for문을 사용했습니다.\n",
    "#### 이는 train data로 fit한 Label Encoder로 test data를 transform할 경우,\n",
    "#### train data에는 속하지 않은 데이터가 test data에 있을 가능성이 있어 에러가 발생할 수 있기 때문입니다.\n",
    "#### 이를 방지하기 위해 for문을 사용하여 예외적인 상황에 대처할 수 있도록 코드를 작성했습니다.\n",
    "#### 참고해 주시길 바랍니다."
   ]
  },
  {
   "cell_type": "markdown",
   "id": "97364cce-2d0c-4ddb-8df3-5c3636660de0",
   "metadata": {},
   "source": [
    "# Import / 라이브러리 호출"
   ]
  },
  {
   "cell_type": "code",
   "execution_count": 1,
   "id": "cb0b3e53-57bf-4f94-932b-2fb3dee8956e",
   "metadata": {},
   "outputs": [],
   "source": [
    "import pandas as pd\n",
    "import random\n",
    "import os\n",
    "import numpy as np\n",
    "\n",
    "from sklearn.preprocessing import LabelEncoder\n",
    "from sklearn.linear_model import LinearRegression"
   ]
  },
  {
   "cell_type": "markdown",
   "id": "ce1a4091-76e8-498b-8b8f-fa39f69e5a6f",
   "metadata": {},
   "source": [
    "# Fixed RandomSeed / 랜덤시드 고정\n",
    "\n",
    "#### 매번 고정된 결과를 얻기 위해서 사용합니다.\n",
    "#### seed를 고정하지 않는다면 같은 코드라도 매번 다른 결과가 나오게됩니다.\n",
    "#### 항상 동일한 결과를 얻기 위해서 사용합니다."
   ]
  },
  {
   "cell_type": "code",
   "execution_count": 2,
   "id": "0229b44b-9119-4980-a3ec-785094c36da3",
   "metadata": {},
   "outputs": [],
   "source": [
    "def seed_everything(seed):\n",
    "    random.seed(seed)\n",
    "    os.environ['PYTHONHASHSEED'] = str(seed)\n",
    "    np.random.seed(seed)\n",
    "\n",
    "seed_everything(42) # Seed 고정"
   ]
  },
  {
   "cell_type": "markdown",
   "id": "de0a6dff-01f8-4273-8742-1ed5e3e16d13",
   "metadata": {},
   "source": [
    "# Data Load / 데이터 불러오기\n",
    "#### 먼저 pandas 라이브러리의 read_csv() 함수를 이용해 분석에 사용할 데이터를 불러옵니다."
   ]
  },
  {
   "cell_type": "code",
   "execution_count": 3,
   "id": "415d243b-4080-4b50-8011-d6ff0d5f0556",
   "metadata": {},
   "outputs": [],
   "source": [
    "train = pd.read_csv('./train.csv')\n",
    "test = pd.read_csv('./test.csv')"
   ]
  },
  {
   "cell_type": "code",
   "execution_count": 4,
   "id": "86d4f28c-b856-41ab-b732-fdd31fb85d01",
   "metadata": {},
   "outputs": [
    {
     "data": {
      "text/html": [
       "<div>\n",
       "<style scoped>\n",
       "    .dataframe tbody tr th:only-of-type {\n",
       "        vertical-align: middle;\n",
       "    }\n",
       "\n",
       "    .dataframe tbody tr th {\n",
       "        vertical-align: top;\n",
       "    }\n",
       "\n",
       "    .dataframe thead th {\n",
       "        text-align: right;\n",
       "    }\n",
       "</style>\n",
       "<table border=\"1\" class=\"dataframe\">\n",
       "  <thead>\n",
       "    <tr style=\"text-align: right;\">\n",
       "      <th></th>\n",
       "      <th>id</th>\n",
       "      <th>temperature</th>\n",
       "      <th>pressure</th>\n",
       "      <th>humidity</th>\n",
       "      <th>wind_speed</th>\n",
       "      <th>wind_direction</th>\n",
       "      <th>precipitation</th>\n",
       "      <th>snowing</th>\n",
       "      <th>cloudiness</th>\n",
       "      <th>target</th>\n",
       "    </tr>\n",
       "  </thead>\n",
       "  <tbody>\n",
       "    <tr>\n",
       "      <th>0</th>\n",
       "      <td>TRAIN_00000</td>\n",
       "      <td>27.8816</td>\n",
       "      <td>1013.6</td>\n",
       "      <td>46.8</td>\n",
       "      <td>2.4</td>\n",
       "      <td>232.4</td>\n",
       "      <td>0.00</td>\n",
       "      <td>False</td>\n",
       "      <td>0.0</td>\n",
       "      <td>1.180</td>\n",
       "    </tr>\n",
       "    <tr>\n",
       "      <th>1</th>\n",
       "      <td>TRAIN_00001</td>\n",
       "      <td>5.7540</td>\n",
       "      <td>1026.6</td>\n",
       "      <td>76.6</td>\n",
       "      <td>3.6</td>\n",
       "      <td>172.0</td>\n",
       "      <td>0.00</td>\n",
       "      <td>False</td>\n",
       "      <td>8.8</td>\n",
       "      <td>8.581</td>\n",
       "    </tr>\n",
       "    <tr>\n",
       "      <th>2</th>\n",
       "      <td>TRAIN_00002</td>\n",
       "      <td>20.8220</td>\n",
       "      <td>1016.2</td>\n",
       "      <td>64.8</td>\n",
       "      <td>2.2</td>\n",
       "      <td>206.0</td>\n",
       "      <td>0.06</td>\n",
       "      <td>False</td>\n",
       "      <td>23.0</td>\n",
       "      <td>3.978</td>\n",
       "    </tr>\n",
       "    <tr>\n",
       "      <th>3</th>\n",
       "      <td>TRAIN_00003</td>\n",
       "      <td>20.0758</td>\n",
       "      <td>1017.4</td>\n",
       "      <td>72.6</td>\n",
       "      <td>0.8</td>\n",
       "      <td>215.4</td>\n",
       "      <td>0.00</td>\n",
       "      <td>False</td>\n",
       "      <td>0.0</td>\n",
       "      <td>8.301</td>\n",
       "    </tr>\n",
       "    <tr>\n",
       "      <th>4</th>\n",
       "      <td>TRAIN_00004</td>\n",
       "      <td>7.5260</td>\n",
       "      <td>1023.2</td>\n",
       "      <td>82.8</td>\n",
       "      <td>1.2</td>\n",
       "      <td>158.0</td>\n",
       "      <td>0.00</td>\n",
       "      <td>False</td>\n",
       "      <td>15.0</td>\n",
       "      <td>1.692</td>\n",
       "    </tr>\n",
       "  </tbody>\n",
       "</table>\n",
       "</div>"
      ],
      "text/plain": [
       "            id  temperature  pressure  humidity  wind_speed  wind_direction  \\\n",
       "0  TRAIN_00000      27.8816    1013.6      46.8         2.4           232.4   \n",
       "1  TRAIN_00001       5.7540    1026.6      76.6         3.6           172.0   \n",
       "2  TRAIN_00002      20.8220    1016.2      64.8         2.2           206.0   \n",
       "3  TRAIN_00003      20.0758    1017.4      72.6         0.8           215.4   \n",
       "4  TRAIN_00004       7.5260    1023.2      82.8         1.2           158.0   \n",
       "\n",
       "   precipitation  snowing  cloudiness  target  \n",
       "0           0.00    False         0.0   1.180  \n",
       "1           0.00    False         8.8   8.581  \n",
       "2           0.06    False        23.0   3.978  \n",
       "3           0.00    False         0.0   8.301  \n",
       "4           0.00    False        15.0   1.692  "
      ]
     },
     "execution_count": 4,
     "metadata": {},
     "output_type": "execute_result"
    }
   ],
   "source": [
    "train.head()"
   ]
  },
  {
   "cell_type": "markdown",
   "id": "df74dc43-306b-43c8-9a05-e345ba0d2d5d",
   "metadata": {},
   "source": [
    "# Feature & Target Split / 독립변수(X), 종속변수(y)로 나누기\n",
    "\n",
    "#### 모델을 학습하기 위해서는 독립변수(X)와 종속변수(y)로 나누어야 합니다.\n",
    "#### 독립변수는 Feature, 종속변수는 Target이라고 불리기도 합니다.\n",
    "- Feature : 예측을 위해 활용되는 데이터\n",
    "- Target : 예측하고자 하는 대상\n",
    "\n",
    "(이 때, 분석에 활용하지 않는 데이터인 'id'는 제거하겠습니다.)"
   ]
  },
  {
   "cell_type": "code",
   "execution_count": 5,
   "id": "f72654c3-4e10-49fc-9889-1830bd0448e3",
   "metadata": {},
   "outputs": [],
   "source": [
    "# X는 독립변수이므로 종속변수를 제거합니다. 또한 target 이외의 분석에 활용하지 않는 데이터(id)를 제거합니다.\n",
    "train_x = train.drop(columns=['id', 'target'])\n",
    "# y는 종속변수로 값을 설정합니다.\n",
    "train_y = train['target']"
   ]
  },
  {
   "cell_type": "code",
   "execution_count": 6,
   "id": "0ea0b196-ce87-409b-abbf-8fdd186d152a",
   "metadata": {},
   "outputs": [],
   "source": [
    "# train에서와 마찬가지로 분석에 활용하지 않는 데이터(id)를 제거합니다.\n",
    "test_x = test.drop(columns=['id'])"
   ]
  },
  {
   "cell_type": "markdown",
   "id": "8afa4609-9602-4211-8ba4-e97170ddd82d",
   "metadata": {
    "tags": []
   },
   "source": [
    "# Data Pre-processing\n",
    "\n",
    "### 데이터 전처리란 무엇일까요?\n",
    "#### **결측치 처리, 이상치 제거, 데이터 단위 변환, 데이터 분포 변환** 등 데이터를 정확하게 분석하기 위해 먼저 데이터에 여러 가지 처리를 해주는 것입니다.\n",
    "#### 전처리를 함으로써 데이터 분석이 가능하도록 하며, 데이터를 합치거나 나눠서 더 정확한 정보를 갖도록 해주기 때문에 전처리 과정은 데이터 분석에 있어서 반드시 필요한 부분입니다.\n",
    "#### 데이터를 계산하는 컴퓨터는 오로지 숫자(정수, 실수)만을 인식하기 때문입니다.\n",
    "#### 그래서 사람이 사용하는 한국어나 영어와 같은 문자나 비어있는 값 (결측치) 등을 숫자로 변경해 주어야 합니다.\n",
    "(이번 데이터에는 결측치가 존재하지 않습니다.)"
   ]
  },
  {
   "cell_type": "code",
   "execution_count": 7,
   "id": "ac2ff428-d854-44ff-b977-260172ecfe54",
   "metadata": {},
   "outputs": [
    {
     "name": "stdout",
     "output_type": "stream",
     "text": [
      "Done.\n"
     ]
    }
   ],
   "source": [
    "le = LabelEncoder()\n",
    "le = le.fit(train_x['snowing'])\n",
    "train_x['snowing'] = le.transform(train_x['snowing'])\n",
    "\n",
    "for label in np.unique(test_x['snowing']):\n",
    "    if label not in le.classes_:\n",
    "        le.classes_ = np.append(le.classes_, label)\n",
    "    test_x['snowing'] = le.transform(test_x['snowing'])\n",
    "print('Done.')"
   ]
  },
  {
   "cell_type": "markdown",
   "id": "983ca091-e0b9-45a3-b82b-33fb58ef7b27",
   "metadata": {},
   "source": [
    "# Regression Model Definition / 회귀 모델 정의\n",
    "\n",
    "#### 분석에 사용할 모델을 선언합니다."
   ]
  },
  {
   "cell_type": "code",
   "execution_count": 8,
   "id": "98a12111-4221-463e-af44-2c2eb6a92e1a",
   "metadata": {},
   "outputs": [
    {
     "name": "stdout",
     "output_type": "stream",
     "text": [
      "Done.\n"
     ]
    }
   ],
   "source": [
    "LR = LinearRegression()\n",
    "print('Done.')"
   ]
  },
  {
   "cell_type": "markdown",
   "id": "5c8c6582-1e3f-49fb-9144-8368e0ba5804",
   "metadata": {},
   "source": [
    "# Model Fit / 모델 학습"
   ]
  },
  {
   "cell_type": "code",
   "execution_count": 9,
   "id": "daa4728a-f968-46fd-8ab9-ba16915b99c5",
   "metadata": {},
   "outputs": [
    {
     "name": "stdout",
     "output_type": "stream",
     "text": [
      "Done.\n"
     ]
    }
   ],
   "source": [
    "# 학습데이터를 모델에 입력합니다.\n",
    "LR.fit(train_x, train_y)\n",
    "print('Done.')"
   ]
  },
  {
   "cell_type": "markdown",
   "id": "c3be809e-fc27-4db9-ab4e-6c47f9207e5a",
   "metadata": {},
   "source": [
    "# Prediction / 예측"
   ]
  },
  {
   "cell_type": "code",
   "execution_count": 10,
   "id": "1ba3cbf0-a749-4e0f-9494-46c4b80dbfd5",
   "metadata": {},
   "outputs": [
    {
     "name": "stdout",
     "output_type": "stream",
     "text": [
      "Done.\n"
     ]
    }
   ],
   "source": [
    "# 최종 예측을 하기위해 test값을 입력합니다.\n",
    "preds = LR.predict(test_x)\n",
    "print('Done.')"
   ]
  },
  {
   "cell_type": "markdown",
   "id": "919108e4-4447-4776-b91b-02809faa6d30",
   "metadata": {
    "tags": []
   },
   "source": [
    "# Submit / 제출"
   ]
  },
  {
   "cell_type": "code",
   "execution_count": 11,
   "id": "a700bd33-7e01-44d1-8e6e-ae2167eae26c",
   "metadata": {},
   "outputs": [],
   "source": [
    "# 제출 파일을 불러옵니다.\n",
    "submit = pd.read_csv('./sample_submission.csv')"
   ]
  },
  {
   "cell_type": "code",
   "execution_count": 12,
   "id": "c42c7c75-6516-4a48-a4c0-462dc763a35a",
   "metadata": {},
   "outputs": [
    {
     "data": {
      "text/html": [
       "<div>\n",
       "<style scoped>\n",
       "    .dataframe tbody tr th:only-of-type {\n",
       "        vertical-align: middle;\n",
       "    }\n",
       "\n",
       "    .dataframe tbody tr th {\n",
       "        vertical-align: top;\n",
       "    }\n",
       "\n",
       "    .dataframe thead th {\n",
       "        text-align: right;\n",
       "    }\n",
       "</style>\n",
       "<table border=\"1\" class=\"dataframe\">\n",
       "  <thead>\n",
       "    <tr style=\"text-align: right;\">\n",
       "      <th></th>\n",
       "      <th>id</th>\n",
       "      <th>target</th>\n",
       "    </tr>\n",
       "  </thead>\n",
       "  <tbody>\n",
       "    <tr>\n",
       "      <th>0</th>\n",
       "      <td>TEST_00000</td>\n",
       "      <td>4.320523</td>\n",
       "    </tr>\n",
       "    <tr>\n",
       "      <th>1</th>\n",
       "      <td>TEST_00001</td>\n",
       "      <td>5.660996</td>\n",
       "    </tr>\n",
       "    <tr>\n",
       "      <th>2</th>\n",
       "      <td>TEST_00002</td>\n",
       "      <td>5.010099</td>\n",
       "    </tr>\n",
       "    <tr>\n",
       "      <th>3</th>\n",
       "      <td>TEST_00003</td>\n",
       "      <td>4.208054</td>\n",
       "    </tr>\n",
       "    <tr>\n",
       "      <th>4</th>\n",
       "      <td>TEST_00004</td>\n",
       "      <td>5.365134</td>\n",
       "    </tr>\n",
       "  </tbody>\n",
       "</table>\n",
       "</div>"
      ],
      "text/plain": [
       "           id    target\n",
       "0  TEST_00000  4.320523\n",
       "1  TEST_00001  5.660996\n",
       "2  TEST_00002  5.010099\n",
       "3  TEST_00003  4.208054\n",
       "4  TEST_00004  5.365134"
      ]
     },
     "execution_count": 12,
     "metadata": {},
     "output_type": "execute_result"
    }
   ],
   "source": [
    "submit['target'] = preds\n",
    "submit.head()"
   ]
  },
  {
   "cell_type": "code",
   "execution_count": 13,
   "id": "775f70b8-5dc5-4158-9565-4452607df5a7",
   "metadata": {},
   "outputs": [],
   "source": [
    "submit.to_csv('./submit2.csv', index=False)"
   ]
  },
  {
   "cell_type": "code",
   "execution_count": null,
   "id": "40012dc4",
   "metadata": {},
   "outputs": [],
   "source": []
  }
 ],
 "metadata": {
  "kernelspec": {
   "display_name": "Python 3 (ipykernel)",
   "language": "python",
   "name": "python3"
  },
  "language_info": {
   "codemirror_mode": {
    "name": "ipython",
    "version": 3
   },
   "file_extension": ".py",
   "mimetype": "text/x-python",
   "name": "python",
   "nbconvert_exporter": "python",
   "pygments_lexer": "ipython3",
   "version": "3.9.16"
  }
 },
 "nbformat": 4,
 "nbformat_minor": 5
}
